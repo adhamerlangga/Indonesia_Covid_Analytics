{
 "cells": [
  {
   "cell_type": "markdown",
   "metadata": {},
   "source": [
    "# Analisis Data Penyebaran Covid-19 di Indonesia"
   ]
  },
  {
   "cell_type": "markdown",
   "metadata": {},
   "source": [
    "dataset diambil dari kaggle, clean dataset"
   ]
  },
  {
   "cell_type": "markdown",
   "metadata": {},
   "source": [
    "### Import Library"
   ]
  },
  {
   "cell_type": "code",
   "execution_count": 1,
   "metadata": {
    "ExecuteTime": {
     "end_time": "2021-04-25T02:45:19.083192Z",
     "start_time": "2021-04-25T02:45:16.081238Z"
    }
   },
   "outputs": [],
   "source": [
    "import pandas as pd\n",
    "import numpy as np\n",
    "import matplotlib.pyplot as plt\n",
    "import matplotlib.dates as mdate\n",
    "import seaborn as sns"
   ]
  },
  {
   "cell_type": "code",
   "execution_count": 2,
   "metadata": {
    "ExecuteTime": {
     "end_time": "2021-04-25T02:45:19.330048Z",
     "start_time": "2021-04-25T02:45:19.094752Z"
    }
   },
   "outputs": [],
   "source": [
    "df = pd.read_csv(\"covid_19_data.csv\")"
   ]
  },
  {
   "cell_type": "markdown",
   "metadata": {},
   "source": [
    "### Explore Dataset"
   ]
  },
  {
   "cell_type": "code",
   "execution_count": 3,
   "metadata": {
    "ExecuteTime": {
     "end_time": "2021-04-25T02:45:19.393626Z",
     "start_time": "2021-04-25T02:45:19.362672Z"
    }
   },
   "outputs": [
    {
     "data": {
      "text/html": [
       "<div>\n",
       "<style scoped>\n",
       "    .dataframe tbody tr th:only-of-type {\n",
       "        vertical-align: middle;\n",
       "    }\n",
       "\n",
       "    .dataframe tbody tr th {\n",
       "        vertical-align: top;\n",
       "    }\n",
       "\n",
       "    .dataframe thead th {\n",
       "        text-align: right;\n",
       "    }\n",
       "</style>\n",
       "<table border=\"1\" class=\"dataframe\">\n",
       "  <thead>\n",
       "    <tr style=\"text-align: right;\">\n",
       "      <th></th>\n",
       "      <th>SNo</th>\n",
       "      <th>ObservationDate</th>\n",
       "      <th>Province/State</th>\n",
       "      <th>Country/Region</th>\n",
       "      <th>Last Update</th>\n",
       "      <th>Confirmed</th>\n",
       "      <th>Deaths</th>\n",
       "      <th>Recovered</th>\n",
       "    </tr>\n",
       "  </thead>\n",
       "  <tbody>\n",
       "    <tr>\n",
       "      <th>0</th>\n",
       "      <td>1</td>\n",
       "      <td>01/22/2020</td>\n",
       "      <td>Anhui</td>\n",
       "      <td>Mainland China</td>\n",
       "      <td>1/22/2020 17:00</td>\n",
       "      <td>1.0</td>\n",
       "      <td>0.0</td>\n",
       "      <td>0.0</td>\n",
       "    </tr>\n",
       "    <tr>\n",
       "      <th>1</th>\n",
       "      <td>2</td>\n",
       "      <td>01/22/2020</td>\n",
       "      <td>Beijing</td>\n",
       "      <td>Mainland China</td>\n",
       "      <td>1/22/2020 17:00</td>\n",
       "      <td>14.0</td>\n",
       "      <td>0.0</td>\n",
       "      <td>0.0</td>\n",
       "    </tr>\n",
       "    <tr>\n",
       "      <th>2</th>\n",
       "      <td>3</td>\n",
       "      <td>01/22/2020</td>\n",
       "      <td>Chongqing</td>\n",
       "      <td>Mainland China</td>\n",
       "      <td>1/22/2020 17:00</td>\n",
       "      <td>6.0</td>\n",
       "      <td>0.0</td>\n",
       "      <td>0.0</td>\n",
       "    </tr>\n",
       "    <tr>\n",
       "      <th>3</th>\n",
       "      <td>4</td>\n",
       "      <td>01/22/2020</td>\n",
       "      <td>Fujian</td>\n",
       "      <td>Mainland China</td>\n",
       "      <td>1/22/2020 17:00</td>\n",
       "      <td>1.0</td>\n",
       "      <td>0.0</td>\n",
       "      <td>0.0</td>\n",
       "    </tr>\n",
       "    <tr>\n",
       "      <th>4</th>\n",
       "      <td>5</td>\n",
       "      <td>01/22/2020</td>\n",
       "      <td>Gansu</td>\n",
       "      <td>Mainland China</td>\n",
       "      <td>1/22/2020 17:00</td>\n",
       "      <td>0.0</td>\n",
       "      <td>0.0</td>\n",
       "      <td>0.0</td>\n",
       "    </tr>\n",
       "  </tbody>\n",
       "</table>\n",
       "</div>"
      ],
      "text/plain": [
       "   SNo ObservationDate Province/State  Country/Region      Last Update  \\\n",
       "0    1      01/22/2020          Anhui  Mainland China  1/22/2020 17:00   \n",
       "1    2      01/22/2020        Beijing  Mainland China  1/22/2020 17:00   \n",
       "2    3      01/22/2020      Chongqing  Mainland China  1/22/2020 17:00   \n",
       "3    4      01/22/2020         Fujian  Mainland China  1/22/2020 17:00   \n",
       "4    5      01/22/2020          Gansu  Mainland China  1/22/2020 17:00   \n",
       "\n",
       "   Confirmed  Deaths  Recovered  \n",
       "0        1.0     0.0        0.0  \n",
       "1       14.0     0.0        0.0  \n",
       "2        6.0     0.0        0.0  \n",
       "3        1.0     0.0        0.0  \n",
       "4        0.0     0.0        0.0  "
      ]
     },
     "execution_count": 3,
     "metadata": {},
     "output_type": "execute_result"
    }
   ],
   "source": [
    "#melihat 5 data teratas dari dataset\n",
    "df.head()"
   ]
  },
  {
   "cell_type": "code",
   "execution_count": 4,
   "metadata": {
    "ExecuteTime": {
     "end_time": "2021-04-25T02:45:19.472710Z",
     "start_time": "2021-04-25T02:45:19.411540Z"
    }
   },
   "outputs": [
    {
     "name": "stdout",
     "output_type": "stream",
     "text": [
      "<class 'pandas.core.frame.DataFrame'>\n",
      "RangeIndex: 236017 entries, 0 to 236016\n",
      "Data columns (total 8 columns):\n",
      " #   Column           Non-Null Count   Dtype  \n",
      "---  ------           --------------   -----  \n",
      " 0   SNo              236017 non-null  int64  \n",
      " 1   ObservationDate  236017 non-null  object \n",
      " 2   Province/State   173972 non-null  object \n",
      " 3   Country/Region   236017 non-null  object \n",
      " 4   Last Update      236017 non-null  object \n",
      " 5   Confirmed        236017 non-null  float64\n",
      " 6   Deaths           236017 non-null  float64\n",
      " 7   Recovered        236017 non-null  float64\n",
      "dtypes: float64(3), int64(1), object(4)\n",
      "memory usage: 14.4+ MB\n"
     ]
    }
   ],
   "source": [
    "#melihat informasi data\n",
    "df.info()"
   ]
  },
  {
   "cell_type": "code",
   "execution_count": 5,
   "metadata": {
    "ExecuteTime": {
     "end_time": "2021-04-25T02:45:19.581889Z",
     "start_time": "2021-04-25T02:45:19.507741Z"
    }
   },
   "outputs": [
    {
     "data": {
      "text/html": [
       "<div>\n",
       "<style scoped>\n",
       "    .dataframe tbody tr th:only-of-type {\n",
       "        vertical-align: middle;\n",
       "    }\n",
       "\n",
       "    .dataframe tbody tr th {\n",
       "        vertical-align: top;\n",
       "    }\n",
       "\n",
       "    .dataframe thead th {\n",
       "        text-align: right;\n",
       "    }\n",
       "</style>\n",
       "<table border=\"1\" class=\"dataframe\">\n",
       "  <thead>\n",
       "    <tr style=\"text-align: right;\">\n",
       "      <th></th>\n",
       "      <th>SNo</th>\n",
       "      <th>Confirmed</th>\n",
       "      <th>Deaths</th>\n",
       "      <th>Recovered</th>\n",
       "    </tr>\n",
       "  </thead>\n",
       "  <tbody>\n",
       "    <tr>\n",
       "      <th>count</th>\n",
       "      <td>236017.000000</td>\n",
       "      <td>2.360170e+05</td>\n",
       "      <td>236017.000000</td>\n",
       "      <td>2.360170e+05</td>\n",
       "    </tr>\n",
       "    <tr>\n",
       "      <th>mean</th>\n",
       "      <td>118009.000000</td>\n",
       "      <td>5.715800e+04</td>\n",
       "      <td>1487.719368</td>\n",
       "      <td>3.393027e+04</td>\n",
       "    </tr>\n",
       "    <tr>\n",
       "      <th>std</th>\n",
       "      <td>68132.383579</td>\n",
       "      <td>1.834751e+05</td>\n",
       "      <td>4770.414639</td>\n",
       "      <td>1.474800e+05</td>\n",
       "    </tr>\n",
       "    <tr>\n",
       "      <th>min</th>\n",
       "      <td>1.000000</td>\n",
       "      <td>-3.028440e+05</td>\n",
       "      <td>-178.000000</td>\n",
       "      <td>-8.544050e+05</td>\n",
       "    </tr>\n",
       "    <tr>\n",
       "      <th>25%</th>\n",
       "      <td>59005.000000</td>\n",
       "      <td>7.270000e+02</td>\n",
       "      <td>9.000000</td>\n",
       "      <td>1.000000e+01</td>\n",
       "    </tr>\n",
       "    <tr>\n",
       "      <th>50%</th>\n",
       "      <td>118009.000000</td>\n",
       "      <td>6.695000e+03</td>\n",
       "      <td>127.000000</td>\n",
       "      <td>1.224000e+03</td>\n",
       "    </tr>\n",
       "    <tr>\n",
       "      <th>75%</th>\n",
       "      <td>177013.000000</td>\n",
       "      <td>3.349900e+04</td>\n",
       "      <td>880.000000</td>\n",
       "      <td>1.263900e+04</td>\n",
       "    </tr>\n",
       "    <tr>\n",
       "      <th>max</th>\n",
       "      <td>236017.000000</td>\n",
       "      <td>3.664050e+06</td>\n",
       "      <td>108208.000000</td>\n",
       "      <td>6.399531e+06</td>\n",
       "    </tr>\n",
       "  </tbody>\n",
       "</table>\n",
       "</div>"
      ],
      "text/plain": [
       "                 SNo     Confirmed         Deaths     Recovered\n",
       "count  236017.000000  2.360170e+05  236017.000000  2.360170e+05\n",
       "mean   118009.000000  5.715800e+04    1487.719368  3.393027e+04\n",
       "std     68132.383579  1.834751e+05    4770.414639  1.474800e+05\n",
       "min         1.000000 -3.028440e+05    -178.000000 -8.544050e+05\n",
       "25%     59005.000000  7.270000e+02       9.000000  1.000000e+01\n",
       "50%    118009.000000  6.695000e+03     127.000000  1.224000e+03\n",
       "75%    177013.000000  3.349900e+04     880.000000  1.263900e+04\n",
       "max    236017.000000  3.664050e+06  108208.000000  6.399531e+06"
      ]
     },
     "execution_count": 5,
     "metadata": {},
     "output_type": "execute_result"
    }
   ],
   "source": [
    "#melihat statistik dekriptif dari dataset\n",
    "df.describe()"
   ]
  },
  {
   "cell_type": "code",
   "execution_count": 6,
   "metadata": {
    "ExecuteTime": {
     "end_time": "2021-04-25T02:45:19.629487Z",
     "start_time": "2021-04-25T02:45:19.598467Z"
    }
   },
   "outputs": [
    {
     "data": {
      "text/plain": [
       "array(['Mainland China', 'Hong Kong', 'Macau', 'Taiwan', 'US', 'Japan',\n",
       "       'Thailand', 'South Korea', 'Singapore', 'Philippines', 'Malaysia',\n",
       "       'Vietnam', 'Australia', 'Mexico', 'Brazil', 'Colombia', 'France',\n",
       "       'Nepal', 'Canada', 'Cambodia', 'Sri Lanka', 'Ivory Coast',\n",
       "       'Germany', 'Finland', 'United Arab Emirates', 'India', 'Italy',\n",
       "       'UK', 'Russia', 'Sweden', 'Spain', 'Belgium', 'Others', 'Egypt',\n",
       "       'Iran', 'Israel', 'Lebanon', 'Iraq', 'Oman', 'Afghanistan',\n",
       "       'Bahrain', 'Kuwait', 'Austria', 'Algeria', 'Croatia',\n",
       "       'Switzerland', 'Pakistan', 'Georgia', 'Greece', 'North Macedonia',\n",
       "       'Norway', 'Romania', 'Denmark', 'Estonia', 'Netherlands',\n",
       "       'San Marino', ' Azerbaijan', 'Belarus', 'Iceland', 'Lithuania',\n",
       "       'New Zealand', 'Nigeria', 'North Ireland', 'Ireland', 'Luxembourg',\n",
       "       'Monaco', 'Qatar', 'Ecuador', 'Azerbaijan', 'Czech Republic',\n",
       "       'Armenia', 'Dominican Republic', 'Indonesia', 'Portugal',\n",
       "       'Andorra', 'Latvia', 'Morocco', 'Saudi Arabia', 'Senegal',\n",
       "       'Argentina', 'Chile', 'Jordan', 'Ukraine', 'Saint Barthelemy',\n",
       "       'Hungary', 'Faroe Islands', 'Gibraltar', 'Liechtenstein', 'Poland',\n",
       "       'Tunisia', 'Palestine', 'Bosnia and Herzegovina', 'Slovenia',\n",
       "       'South Africa', 'Bhutan', 'Cameroon', 'Costa Rica', 'Peru',\n",
       "       'Serbia', 'Slovakia', 'Togo', 'Vatican City', 'French Guiana',\n",
       "       'Malta', 'Martinique', 'Republic of Ireland', 'Bulgaria',\n",
       "       'Maldives', 'Bangladesh', 'Moldova', 'Paraguay', 'Albania',\n",
       "       'Cyprus', 'St. Martin', 'Brunei', 'occupied Palestinian territory',\n",
       "       \"('St. Martin',)\", 'Burkina Faso', 'Channel Islands', 'Holy See',\n",
       "       'Mongolia', 'Panama', 'Bolivia', 'Honduras', 'Congo (Kinshasa)',\n",
       "       'Jamaica', 'Reunion', 'Turkey', 'Cuba', 'Guyana', 'Kazakhstan',\n",
       "       'Cayman Islands', 'Guadeloupe', 'Ethiopia', 'Sudan', 'Guinea',\n",
       "       'Antigua and Barbuda', 'Aruba', 'Kenya', 'Uruguay', 'Ghana',\n",
       "       'Jersey', 'Namibia', 'Seychelles', 'Trinidad and Tobago',\n",
       "       'Venezuela', 'Curacao', 'Eswatini', 'Gabon', 'Guatemala',\n",
       "       'Guernsey', 'Mauritania', 'Rwanda', 'Saint Lucia',\n",
       "       'Saint Vincent and the Grenadines', 'Suriname', 'Kosovo',\n",
       "       'Central African Republic', 'Congo (Brazzaville)',\n",
       "       'Equatorial Guinea', 'Uzbekistan', 'Guam', 'Puerto Rico', 'Benin',\n",
       "       'Greenland', 'Liberia', 'Mayotte', 'Republic of the Congo',\n",
       "       'Somalia', 'Tanzania', 'The Bahamas', 'Barbados', 'Montenegro',\n",
       "       'The Gambia', 'Kyrgyzstan', 'Mauritius', 'Zambia', 'Djibouti',\n",
       "       'Gambia, The', 'Bahamas, The', 'Chad', 'El Salvador', 'Fiji',\n",
       "       'Nicaragua', 'Madagascar', 'Haiti', 'Angola', 'Cabo Verde',\n",
       "       'Niger', 'Papua New Guinea', 'Zimbabwe', 'Cape Verde',\n",
       "       'East Timor', 'Eritrea', 'Uganda', 'Bahamas', 'Dominica', 'Gambia',\n",
       "       'Grenada', 'Mozambique', 'Samoa', 'Syria', 'Timor-Leste', 'Belize',\n",
       "       'Laos', 'Libya', 'Diamond Princess', 'Guinea-Bissau', 'Mali',\n",
       "       'Saint Kitts and Nevis', 'West Bank and Gaza', 'Burma',\n",
       "       'MS Zaandam', 'Botswana', 'Burundi', 'Sierra Leone', 'Malawi',\n",
       "       'South Sudan', 'Sao Tome and Principe', 'Yemen', 'Comoros',\n",
       "       'Tajikistan', 'Lesotho', 'Solomon Islands', 'Marshall Islands',\n",
       "       'Vanuatu', 'Micronesia'], dtype=object)"
      ]
     },
     "execution_count": 6,
     "metadata": {},
     "output_type": "execute_result"
    }
   ],
   "source": [
    "#melihat negara yang ada\n",
    "df[\"Country/Region\"].unique()"
   ]
  },
  {
   "cell_type": "code",
   "execution_count": 7,
   "metadata": {
    "ExecuteTime": {
     "end_time": "2021-04-25T02:45:19.691105Z",
     "start_time": "2021-04-25T02:45:19.661510Z"
    }
   },
   "outputs": [
    {
     "name": "stdout",
     "output_type": "stream",
     "text": [
      "Jumlah negara pada dataset:  227\n"
     ]
    }
   ],
   "source": [
    "#menghitung jumlah negara\n",
    "negara = df[\"Country/Region\"].unique()\n",
    "count = 0\n",
    "\n",
    "for i in negara:\n",
    "    count = count +1\n",
    "\n",
    "print (\"Jumlah negara pada dataset: \", count)"
   ]
  },
  {
   "cell_type": "code",
   "execution_count": 8,
   "metadata": {
    "ExecuteTime": {
     "end_time": "2021-04-25T02:45:20.378028Z",
     "start_time": "2021-04-25T02:45:20.342180Z"
    }
   },
   "outputs": [],
   "source": [
    "#membuat dataset yang berisi negara indonesia saja\n",
    "indo = df.loc[df['Country/Region'] == \"Indonesia\"]\n",
    "indo = indo.drop([\"Province/State\", \"SNo\"], axis = 1)"
   ]
  },
  {
   "cell_type": "code",
   "execution_count": 9,
   "metadata": {
    "ExecuteTime": {
     "end_time": "2021-04-25T02:45:21.595847Z",
     "start_time": "2021-04-25T02:45:21.569920Z"
    }
   },
   "outputs": [
    {
     "data": {
      "text/html": [
       "<div>\n",
       "<style scoped>\n",
       "    .dataframe tbody tr th:only-of-type {\n",
       "        vertical-align: middle;\n",
       "    }\n",
       "\n",
       "    .dataframe tbody tr th {\n",
       "        vertical-align: top;\n",
       "    }\n",
       "\n",
       "    .dataframe thead th {\n",
       "        text-align: right;\n",
       "    }\n",
       "</style>\n",
       "<table border=\"1\" class=\"dataframe\">\n",
       "  <thead>\n",
       "    <tr style=\"text-align: right;\">\n",
       "      <th></th>\n",
       "      <th>ObservationDate</th>\n",
       "      <th>Country/Region</th>\n",
       "      <th>Last Update</th>\n",
       "      <th>Confirmed</th>\n",
       "      <th>Deaths</th>\n",
       "      <th>Recovered</th>\n",
       "    </tr>\n",
       "  </thead>\n",
       "  <tbody>\n",
       "    <tr>\n",
       "      <th>3034</th>\n",
       "      <td>03/02/2020</td>\n",
       "      <td>Indonesia</td>\n",
       "      <td>2020-03-02T18:03:04</td>\n",
       "      <td>2.0</td>\n",
       "      <td>0.0</td>\n",
       "      <td>0.0</td>\n",
       "    </tr>\n",
       "    <tr>\n",
       "      <th>3176</th>\n",
       "      <td>03/03/2020</td>\n",
       "      <td>Indonesia</td>\n",
       "      <td>2020-03-02T18:03:04</td>\n",
       "      <td>2.0</td>\n",
       "      <td>0.0</td>\n",
       "      <td>0.0</td>\n",
       "    </tr>\n",
       "    <tr>\n",
       "      <th>3337</th>\n",
       "      <td>03/04/2020</td>\n",
       "      <td>Indonesia</td>\n",
       "      <td>2020-03-02T18:03:04</td>\n",
       "      <td>2.0</td>\n",
       "      <td>0.0</td>\n",
       "      <td>0.0</td>\n",
       "    </tr>\n",
       "    <tr>\n",
       "      <th>3504</th>\n",
       "      <td>03/05/2020</td>\n",
       "      <td>Indonesia</td>\n",
       "      <td>2020-03-02T18:03:04</td>\n",
       "      <td>2.0</td>\n",
       "      <td>0.0</td>\n",
       "      <td>0.0</td>\n",
       "    </tr>\n",
       "    <tr>\n",
       "      <th>3672</th>\n",
       "      <td>03/06/2020</td>\n",
       "      <td>Indonesia</td>\n",
       "      <td>2020-03-06T12:33:03</td>\n",
       "      <td>4.0</td>\n",
       "      <td>0.0</td>\n",
       "      <td>0.0</td>\n",
       "    </tr>\n",
       "    <tr>\n",
       "      <th>...</th>\n",
       "      <td>...</td>\n",
       "      <td>...</td>\n",
       "      <td>...</td>\n",
       "      <td>...</td>\n",
       "      <td>...</td>\n",
       "      <td>...</td>\n",
       "    </tr>\n",
       "    <tr>\n",
       "      <th>232267</th>\n",
       "      <td>02/23/2021</td>\n",
       "      <td>Indonesia</td>\n",
       "      <td>2021-02-24 05:29:16</td>\n",
       "      <td>1298608.0</td>\n",
       "      <td>35014.0</td>\n",
       "      <td>1104990.0</td>\n",
       "    </tr>\n",
       "    <tr>\n",
       "      <th>233031</th>\n",
       "      <td>02/24/2021</td>\n",
       "      <td>Indonesia</td>\n",
       "      <td>2021-02-25 05:24:57</td>\n",
       "      <td>1306141.0</td>\n",
       "      <td>35254.0</td>\n",
       "      <td>1112725.0</td>\n",
       "    </tr>\n",
       "    <tr>\n",
       "      <th>233795</th>\n",
       "      <td>02/25/2021</td>\n",
       "      <td>Indonesia</td>\n",
       "      <td>2021-02-26 05:22:40</td>\n",
       "      <td>1314634.0</td>\n",
       "      <td>35518.0</td>\n",
       "      <td>1121411.0</td>\n",
       "    </tr>\n",
       "    <tr>\n",
       "      <th>234559</th>\n",
       "      <td>02/26/2021</td>\n",
       "      <td>Indonesia</td>\n",
       "      <td>2021-02-27 05:22:28</td>\n",
       "      <td>1322866.0</td>\n",
       "      <td>35786.0</td>\n",
       "      <td>1128672.0</td>\n",
       "    </tr>\n",
       "    <tr>\n",
       "      <th>235323</th>\n",
       "      <td>02/27/2021</td>\n",
       "      <td>Indonesia</td>\n",
       "      <td>2021-02-28 05:22:20</td>\n",
       "      <td>1329074.0</td>\n",
       "      <td>35981.0</td>\n",
       "      <td>1136054.0</td>\n",
       "    </tr>\n",
       "  </tbody>\n",
       "</table>\n",
       "<p>363 rows × 6 columns</p>\n",
       "</div>"
      ],
      "text/plain": [
       "       ObservationDate Country/Region          Last Update  Confirmed  \\\n",
       "3034        03/02/2020      Indonesia  2020-03-02T18:03:04        2.0   \n",
       "3176        03/03/2020      Indonesia  2020-03-02T18:03:04        2.0   \n",
       "3337        03/04/2020      Indonesia  2020-03-02T18:03:04        2.0   \n",
       "3504        03/05/2020      Indonesia  2020-03-02T18:03:04        2.0   \n",
       "3672        03/06/2020      Indonesia  2020-03-06T12:33:03        4.0   \n",
       "...                ...            ...                  ...        ...   \n",
       "232267      02/23/2021      Indonesia  2021-02-24 05:29:16  1298608.0   \n",
       "233031      02/24/2021      Indonesia  2021-02-25 05:24:57  1306141.0   \n",
       "233795      02/25/2021      Indonesia  2021-02-26 05:22:40  1314634.0   \n",
       "234559      02/26/2021      Indonesia  2021-02-27 05:22:28  1322866.0   \n",
       "235323      02/27/2021      Indonesia  2021-02-28 05:22:20  1329074.0   \n",
       "\n",
       "         Deaths  Recovered  \n",
       "3034        0.0        0.0  \n",
       "3176        0.0        0.0  \n",
       "3337        0.0        0.0  \n",
       "3504        0.0        0.0  \n",
       "3672        0.0        0.0  \n",
       "...         ...        ...  \n",
       "232267  35014.0  1104990.0  \n",
       "233031  35254.0  1112725.0  \n",
       "233795  35518.0  1121411.0  \n",
       "234559  35786.0  1128672.0  \n",
       "235323  35981.0  1136054.0  \n",
       "\n",
       "[363 rows x 6 columns]"
      ]
     },
     "execution_count": 9,
     "metadata": {},
     "output_type": "execute_result"
    }
   ],
   "source": [
    "indo"
   ]
  },
  {
   "cell_type": "markdown",
   "metadata": {},
   "source": [
    "### Mengecek korelasi antar kolom"
   ]
  },
  {
   "cell_type": "code",
   "execution_count": 14,
   "metadata": {
    "ExecuteTime": {
     "end_time": "2021-04-25T02:47:52.233852Z",
     "start_time": "2021-04-25T02:47:52.031239Z"
    }
   },
   "outputs": [
    {
     "data": {
      "text/plain": [
       "<AxesSubplot:>"
      ]
     },
     "execution_count": 14,
     "metadata": {},
     "output_type": "execute_result"
    },
    {
     "data": {
      "image/png": "[encoded data removed]",
      "text/plain": [
       "<Figure size 432x288 with 2 Axes>"
      ]
     },
     "metadata": {
      "needs_background": "light"
     },
     "output_type": "display_data"
    }
   ],
   "source": [
    "sns.heatmap(indo.corr(), annot = True)"
   ]
  },
  {
   "cell_type": "markdown",
   "metadata": {},
   "source": [
    "Korelasi pada dataframe indo menunjukkan bahwa seluruh kolom berkorelasi positif kuat. Yang berarti semakin tinggi nilai suatu variable maka semakin tinggi juga nilai variable yang berkorelasi"
   ]
  },
  {
   "cell_type": "markdown",
   "metadata": {},
   "source": [
    "### Visualisasi Data"
   ]
  },
  {
   "cell_type": "markdown",
   "metadata": {},
   "source": [
    "#### Line Plot"
   ]
  },
  {
   "cell_type": "markdown",
   "metadata": {},
   "source": [
    "Line plot Berguna untuk melihat perkembangan suatu data seperti data covid-19 di indonesia. Kita akan melihat perkembangan Covid-19"
   ]
  },
  {
   "cell_type": "code",
   "execution_count": 10,
   "metadata": {},
   "outputs": [
    {
     "data": {
      "text/plain": [
       "Text(0.5, 1.0, 'Kasus Covid-19 di Indonesia yang terkonfirmasi dan sembuh dari covid-19 setiap bulannya')"
      ]
     },
     "execution_count": 10,
     "metadata": {},
     "output_type": "execute_result"
    },
    {
     "data": {
      "image/png": "[encoded data removed]",
      "text/plain": [
       "<Figure size 1080x360 with 1 Axes>"
      ]
     },
     "metadata": {
      "needs_background": "light"
     },
     "output_type": "display_data"
    }
   ],
   "source": [
    "#membuat fungsi line plot\n",
    "f,ax = plt.subplots(figsize=(15, 5)) #mengatur ukuran figure plot\n",
    "plt.plot(indo[\"ObservationDate\"],indo[\"Confirmed\"], label = \"Terkonfirmasi Covid-19\", c = 'r') #membuat fungsi plot untuk yang terkonfirmasi\n",
    "plt.plot(indo[\"ObservationDate\"],indo[\"Recovered\"], label = \"Sembuh dari Covid-19\", c = 'b') #membuat fungsi plot untuk sembuh\n",
    "\n",
    "#mengubah sumbu x dari harian menjadi bulanan\n",
    "locator = mdate.MonthLocator() \n",
    "plt.gca().xaxis.set_major_locator(locator)\n",
    "\n",
    "plt.legend(loc='best') #memberikan legenda garis\n",
    "plt.xlabel(\"Waktu\") #memberi nama sumbu x\n",
    "plt.ylabel(\"Jumlah Orang (dalam satuan 10^6)\") #memberi nama sumbu y\n",
    "plt.title(\"Kasus Covid-19 di Indonesia yang terkonfirmasi dan sembuh dari covid-19 setiap bulannya\") #memberi judul"
   ]
  },
  {
   "cell_type": "markdown",
   "metadata": {},
   "source": [
    "#### Pie Chart"
   ]
  },
  {
   "cell_type": "markdown",
   "metadata": {},
   "source": [
    "Berguna untuk membandingkan proporsi dari data kategorikal. pada kasus ini digunakan untuk membandingkan presentase kematian, sembuh, dan terkonfirmasi pada tanggal dataset terakhir di-update"
   ]
  },
  {
   "cell_type": "code",
   "execution_count": 11,
   "metadata": {},
   "outputs": [
    {
     "data": {
      "text/html": [
       "<div>\n",
       "<style scoped>\n",
       "    .dataframe tbody tr th:only-of-type {\n",
       "        vertical-align: middle;\n",
       "    }\n",
       "\n",
       "    .dataframe tbody tr th {\n",
       "        vertical-align: top;\n",
       "    }\n",
       "\n",
       "    .dataframe thead th {\n",
       "        text-align: right;\n",
       "    }\n",
       "</style>\n",
       "<table border=\"1\" class=\"dataframe\">\n",
       "  <thead>\n",
       "    <tr style=\"text-align: right;\">\n",
       "      <th></th>\n",
       "      <th>ObservationDate</th>\n",
       "      <th>Country/Region</th>\n",
       "      <th>Last Update</th>\n",
       "      <th>Confirmed</th>\n",
       "      <th>Deaths</th>\n",
       "      <th>Recovered</th>\n",
       "    </tr>\n",
       "  </thead>\n",
       "  <tbody>\n",
       "    <tr>\n",
       "      <th>232267</th>\n",
       "      <td>02/23/2021</td>\n",
       "      <td>Indonesia</td>\n",
       "      <td>2021-02-24 05:29:16</td>\n",
       "      <td>1298608.0</td>\n",
       "      <td>35014.0</td>\n",
       "      <td>1104990.0</td>\n",
       "    </tr>\n",
       "    <tr>\n",
       "      <th>233031</th>\n",
       "      <td>02/24/2021</td>\n",
       "      <td>Indonesia</td>\n",
       "      <td>2021-02-25 05:24:57</td>\n",
       "      <td>1306141.0</td>\n",
       "      <td>35254.0</td>\n",
       "      <td>1112725.0</td>\n",
       "    </tr>\n",
       "    <tr>\n",
       "      <th>233795</th>\n",
       "      <td>02/25/2021</td>\n",
       "      <td>Indonesia</td>\n",
       "      <td>2021-02-26 05:22:40</td>\n",
       "      <td>1314634.0</td>\n",
       "      <td>35518.0</td>\n",
       "      <td>1121411.0</td>\n",
       "    </tr>\n",
       "    <tr>\n",
       "      <th>234559</th>\n",
       "      <td>02/26/2021</td>\n",
       "      <td>Indonesia</td>\n",
       "      <td>2021-02-27 05:22:28</td>\n",
       "      <td>1322866.0</td>\n",
       "      <td>35786.0</td>\n",
       "      <td>1128672.0</td>\n",
       "    </tr>\n",
       "    <tr>\n",
       "      <th>235323</th>\n",
       "      <td>02/27/2021</td>\n",
       "      <td>Indonesia</td>\n",
       "      <td>2021-02-28 05:22:20</td>\n",
       "      <td>1329074.0</td>\n",
       "      <td>35981.0</td>\n",
       "      <td>1136054.0</td>\n",
       "    </tr>\n",
       "  </tbody>\n",
       "</table>\n",
       "</div>"
      ],
      "text/plain": [
       "       ObservationDate Country/Region          Last Update  Confirmed  \\\n",
       "232267      02/23/2021      Indonesia  2021-02-24 05:29:16  1298608.0   \n",
       "233031      02/24/2021      Indonesia  2021-02-25 05:24:57  1306141.0   \n",
       "233795      02/25/2021      Indonesia  2021-02-26 05:22:40  1314634.0   \n",
       "234559      02/26/2021      Indonesia  2021-02-27 05:22:28  1322866.0   \n",
       "235323      02/27/2021      Indonesia  2021-02-28 05:22:20  1329074.0   \n",
       "\n",
       "         Deaths  Recovered  \n",
       "232267  35014.0  1104990.0  \n",
       "233031  35254.0  1112725.0  \n",
       "233795  35518.0  1121411.0  \n",
       "234559  35786.0  1128672.0  \n",
       "235323  35981.0  1136054.0  "
      ]
     },
     "execution_count": 11,
     "metadata": {},
     "output_type": "execute_result"
    }
   ],
   "source": [
    "#Menampilkan 5 baris terakhir dari dataset\n",
    "indo.tail()"
   ]
  },
  {
   "cell_type": "code",
   "execution_count": 12,
   "metadata": {},
   "outputs": [],
   "source": [
    "#membuat dataset yang hanya berisi kolom terkonfirmasi, sembuh, dan kematian\n",
    "df_indo = indo[[\"Confirmed\",\"Deaths\",\"Recovered\"]]\n",
    "df_indo.index = np.arange(1,len(indo)+1) #membuat index data mulai dari sampai banyak data dari dataset indo ditambah 1 (list mulai dari 0)\n",
    "df_indo = df_indo.transpose() #transpose data, baris menjadi kolom\n",
    "df_indo = df_indo.drop(df_indo.iloc[:, :-1], axis = 1) #menghapus semua kolom kecuali kolom terakhir\n",
    "df_indo = df_indo.rename(columns = {363: \"27-02-2021\"}) #menamai kolom menjadi tanggal terakhir"
   ]
  },
  {
   "cell_type": "code",
   "execution_count": 13,
   "metadata": {},
   "outputs": [
    {
     "data": {
      "image/png": "[encoded data removed]",
      "text/plain": [
       "<Figure size 1080x360 with 1 Axes>"
      ]
     },
     "metadata": {},
     "output_type": "display_data"
    }
   ],
   "source": [
    "#membuat plot dalam bentuk pie chart\n",
    "df_indo[\"27-02-2021\"].plot(kind = 'pie', figsize = (15,5), autopct='%1.1f%%', startangle=90, shadow=True)\n",
    "\n",
    "plt.title(\"Perbandingan Presentase Jumlah Terkonfirmasi, Sembuh, dan Kematian di Indonesia\")\n",
    "plt.axis('equal') #agar berbetuk lingkaran\n",
    "plt.legend(loc='upper right') #mengatur posisi legenda\n",
    "plt.show()"
   ]
  }
 ],
 "metadata": {
  "kernelspec": {
   "display_name": "Python 3",
   "language": "python",
   "name": "python3"
  },
  "language_info": {
   "codemirror_mode": {
    "name": "ipython",
    "version": 3
   },
   "file_extension": ".py",
   "mimetype": "text/x-python",
   "name": "python",
   "nbconvert_exporter": "python",
   "pygments_lexer": "ipython3",
   "version": "3.8.5"
  },
  "varInspector": {
   "cols": {
    "lenName": 16,
    "lenType": 16,
    "lenVar": 40
   },
   "kernels_config": {
    "python": {
     "delete_cmd_postfix": "",
     "delete_cmd_prefix": "del ",
     "library": "var_list.py",
     "varRefreshCmd": "print(var_dic_list())"
    },
    "r": {
     "delete_cmd_postfix": ") ",
     "delete_cmd_prefix": "rm(",
     "library": "var_list.r",
     "varRefreshCmd": "cat(var_dic_list()) "
    }
   },
   "types_to_exclude": [
    "module",
    "function",
    "builtin_function_or_method",
    "instance",
    "_Feature"
   ],
   "window_display": false
  }
 },
 "nbformat": 4,
 "nbformat_minor": 4
}
